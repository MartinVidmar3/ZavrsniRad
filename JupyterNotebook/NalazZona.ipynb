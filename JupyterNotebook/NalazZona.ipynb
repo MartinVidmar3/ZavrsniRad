{
 "cells": [
  {
   "cell_type": "code",
   "execution_count": 2,
   "metadata": {},
   "outputs": [
    {
     "name": "stdout",
     "output_type": "stream",
     "text": [
      "Requirement already satisfied: pandas in c:\\users\\martin\\anaconda3\\lib\\site-packages (2.2.2)\n",
      "Requirement already satisfied: openpyxl in c:\\users\\martin\\anaconda3\\lib\\site-packages (3.1.5)\n",
      "Requirement already satisfied: numpy>=1.26.0 in c:\\users\\martin\\anaconda3\\lib\\site-packages (from pandas) (1.26.4)\n",
      "Requirement already satisfied: python-dateutil>=2.8.2 in c:\\users\\martin\\anaconda3\\lib\\site-packages (from pandas) (2.9.0.post0)\n",
      "Requirement already satisfied: pytz>=2020.1 in c:\\users\\martin\\anaconda3\\lib\\site-packages (from pandas) (2024.1)\n",
      "Requirement already satisfied: tzdata>=2022.7 in c:\\users\\martin\\anaconda3\\lib\\site-packages (from pandas) (2023.3)\n",
      "Requirement already satisfied: et-xmlfile in c:\\users\\martin\\anaconda3\\lib\\site-packages (from openpyxl) (1.1.0)\n",
      "Requirement already satisfied: six>=1.5 in c:\\users\\martin\\anaconda3\\lib\\site-packages (from python-dateutil>=2.8.2->pandas) (1.16.0)\n"
     ]
    }
   ],
   "source": [
    "!pip install pandas openpyxl"
   ]
  },
  {
   "cell_type": "code",
   "execution_count": null,
   "metadata": {},
   "outputs": [],
   "source": []
  },
  {
   "cell_type": "code",
   "execution_count": 6,
   "metadata": {},
   "outputs": [],
   "source": [
    "import pandas as pd\n",
    "import matplotlib.pyplot as plt\n",
    "%matplotlib inline\n",
    "\n",
    "\n",
    "file_path_zone=\"data/zone.csv\"\n",
    "file_path_calorim=\"data/calorimeter.csv\"\n",
    "file_path_fcu=\"data/fcu.csv\"\n",
    "\n",
    "\n",
    "data_zone=pd.read_csv(file_path_zone)\n",
    "data_calorim=pd.read_csv(file_path_calorim)\n",
    "data_fcu=pd.read_csv(file_path_fcu)\n",
    "\n"
   ]
  },
  {
   "cell_type": "code",
   "execution_count": 6,
   "metadata": {},
   "outputs": [
    {
     "name": "stdout",
     "output_type": "stream",
     "text": [
      "measurement_group_id za 11. kat sjever je [23]\n"
     ]
    }
   ],
   "source": [
    "calori11sjev=data_calorim.loc[data_calorim['name']=='C11N']\n",
    "print(f\"measurement_group_id za 11. kat sjever je {calori11sjev['calorimeter_id'].tolist()}\")"
   ]
  },
  {
   "cell_type": "code",
   "execution_count": 7,
   "metadata": {},
   "outputs": [
    {
     "name": "stdout",
     "output_type": "stream",
     "text": [
      "measurement_group_id za 11. kat jug je [24]\n"
     ]
    }
   ],
   "source": [
    "calori11sjev=data_calorim.loc[data_calorim['name']=='C11S']\n",
    "print(f\"measurement_group_id za 11. kat jug je {calori11sjev['calorimeter_id'].tolist()}\")"
   ]
  },
  {
   "cell_type": "code",
   "execution_count": 8,
   "metadata": {},
   "outputs": [
    {
     "name": "stdout",
     "output_type": "stream",
     "text": [
      "zone za 11. kat jug su [195, 196, 197, 198, 199, 200, 201, 202, 203, 204, 205, 206, 207]\n"
     ]
    }
   ],
   "source": [
    "filtrirane_zone24=data_zone.loc[data_zone['measurement_group_id']==24]\n",
    "print(f\"zone za 11. kat jug su {filtrirane_zone24['zone_id'].tolist()}\")\n"
   ]
  },
  {
   "cell_type": "code",
   "execution_count": 9,
   "metadata": {},
   "outputs": [
    {
     "name": "stdout",
     "output_type": "stream",
     "text": [
      "zone za 11. kat sjever su [193, 194, 208, 209, 210, 211, 212]\n"
     ]
    }
   ],
   "source": [
    "filtrirane_zone24=data_zone.loc[data_zone['measurement_group_id']==23]\n",
    "print(f\"zone za 11. kat sjever su {filtrirane_zone24['zone_id'].tolist()}\")\n"
   ]
  },
  {
   "cell_type": "code",
   "execution_count": null,
   "metadata": {},
   "outputs": [],
   "source": []
  }
 ],
 "metadata": {
  "kernelspec": {
   "display_name": "Python 3 (ipykernel)",
   "language": "python",
   "name": "python3"
  },
  "language_info": {
   "codemirror_mode": {
    "name": "ipython",
    "version": 3
   },
   "file_extension": ".py",
   "mimetype": "text/x-python",
   "name": "python",
   "nbconvert_exporter": "python",
   "pygments_lexer": "ipython3",
   "version": "3.12.7"
  }
 },
 "nbformat": 4,
 "nbformat_minor": 4
}
