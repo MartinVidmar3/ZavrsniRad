{
 "cells": [
  {
   "cell_type": "code",
   "execution_count": 6,
   "id": "ca65357e-a407-4883-8271-7d1e381c04ea",
   "metadata": {},
   "outputs": [],
   "source": [
    "import pandas as pd\n",
    "import matplotlib.pyplot as plt\n",
    "%matplotlib inline\n"
   ]
  },
  {
   "cell_type": "code",
   "execution_count": 8,
   "id": "da08ada8-8e1f-44b7-848d-29e68db789b2",
   "metadata": {},
   "outputs": [],
   "source": [
    "file_path = \"../../../results/2018/23/calorimeter_23_year_2018filtriranje.csv\"\n",
    "file_path1 = \"../../../results/2018/23/calorimeter_23_year_2018presjeci.csv\"\n",
    "\n",
    "\n",
    "data = pd.read_csv(file_path, index_col=[0])\n",
    "data1=pd.read_csv(file_path1, index_col=[0])\n"
   ]
  },
  {
   "cell_type": "code",
   "execution_count": 9,
   "id": "9606b3ed-23b0-4974-b5b3-ab9d00a97fd0",
   "metadata": {},
   "outputs": [
    {
     "name": "stdout",
     "output_type": "stream",
     "text": [
      "First two rows of data (filtriranje):\n",
      "      calorimeter_id             batch_timestamp                   timestamp  \\\n",
      "id                                                                             \n",
      "7147              23  2018-03-22 18:16:02.287021  2018-03-22 18:16:04.039255   \n",
      "7225              23  2018-03-22 18:19:02.008479  2018-03-22 18:19:03.744560   \n",
      "\n",
      "      supply_temperature  return_temperature  temperature_difference  \\\n",
      "id                                                                     \n",
      "7147                51.4                48.6                     2.7   \n",
      "7225                51.4                48.6                     2.9   \n",
      "\n",
      "      mass_volume_flow  thermal_power  thermal_energy_heating  \\\n",
      "id                                                              \n",
      "7147             700.0            2.1                  9682.0   \n",
      "7225             710.0            2.5                  9682.0   \n",
      "\n",
      "      thermal_energy_cooling  error  interval_d  \n",
      "id                                               \n",
      "7147                     0.0    NaN  2018-03-22  \n",
      "7225                     0.0    NaN  2018-03-22  \n",
      "\n",
      "First two rows of data1 (presjeci):\n",
      "                                      intersection_end   intersection_duration\n",
      "intersection_start                                                            \n",
      "2018-03-22 17:58:03.412820  2018-03-23 03:27:03.318727  0 days 09:28:59.905907\n",
      "2018-03-23 17:53:03.886798  2018-03-24 04:27:04.031983  0 days 10:34:00.145185\n"
     ]
    }
   ],
   "source": [
    "# Print the first two rows of each DataFrame\n",
    "print(\"First two rows of data (filtriranje):\")\n",
    "print(data.head(2))\n",
    "\n",
    "print(\"\\nFirst two rows of data1 (presjeci):\")\n",
    "print(data1.head(2))"
   ]
  },
  {
   "cell_type": "code",
   "execution_count": 24,
   "id": "932b7b58-4f69-4275-ac26-df8cb0c851f7",
   "metadata": {},
   "outputs": [
    {
     "name": "stdout",
     "output_type": "stream",
     "text": [
      "broj redata caorimrter.csv prije filtracije 354213\n",
      "broj redata presjeci.csv  1016\n",
      "broj redata caorimrter.csv poslije filtracije 342756\n",
      "      calorimeter_id             batch_timestamp                  timestamp  \\\n",
      "id                                                                            \n",
      "7147              23  2018-03-22 18:16:02.287021 2018-03-22 18:16:04.039255   \n",
      "7225              23  2018-03-22 18:19:02.008479 2018-03-22 18:19:03.744560   \n",
      "7251              23  2018-03-22 18:20:02.010227 2018-03-22 18:20:03.780769   \n",
      "7277              23  2018-03-22 18:21:01.960993 2018-03-22 18:21:03.692024   \n",
      "7303              23  2018-03-22 18:22:01.843790 2018-03-22 18:22:03.591805   \n",
      "\n",
      "      supply_temperature  return_temperature  temperature_difference  \\\n",
      "id                                                                     \n",
      "7147                51.4                48.6                     2.7   \n",
      "7225                51.4                48.6                     2.9   \n",
      "7251                51.7                48.6                     3.2   \n",
      "7277                51.9                48.6                     3.2   \n",
      "7303                51.9                48.6                     3.4   \n",
      "\n",
      "      mass_volume_flow  thermal_power  thermal_energy_heating  \\\n",
      "id                                                              \n",
      "7147             700.0            2.1                  9682.0   \n",
      "7225             710.0            2.5                  9682.0   \n",
      "7251             720.0            2.7                  9683.0   \n",
      "7277             720.0            2.7                  9683.0   \n",
      "7303             720.0            2.9                  9683.0   \n",
      "\n",
      "      thermal_energy_cooling  error  interval_d  \n",
      "id                                               \n",
      "7147                     0.0    NaN  2018-03-22  \n",
      "7225                     0.0    NaN  2018-03-22  \n",
      "7251                     0.0    NaN  2018-03-22  \n",
      "7277                     0.0    NaN  2018-03-22  \n",
      "7303                     0.0    NaN  2018-03-22  \n"
     ]
    }
   ],
   "source": [
    "\n",
    "data['timestamp'] = pd.to_datetime(data['timestamp'])\n",
    "print(f\"broj redaka caorimrter.csv prije filtracije {len(data)}\")\n",
    "print(f\"broj redaka presjeci.csv  {len(data1)}\")\n",
    "data1.index = pd.to_datetime(data1.index)  \n",
    "data1['intersection_end'] = pd.to_datetime(data1['intersection_end'])\n",
    "\n",
    "\n",
    "def is_in_any_interval(ts, intervals):\n",
    "    for start, end in intervals:\n",
    "        if start <= ts <= end:\n",
    "            return True\n",
    "    return False\n",
    "\n",
    "\n",
    "intervals = list(zip(data1.index, data1['intersection_end']))\n",
    "\n",
    "\n",
    "filtered_data = data[data['timestamp'].apply(lambda ts: is_in_any_interval(ts, intervals))]\n",
    "\n",
    "\n",
    "print(f\"broj redaka caorimrter.csv poslije filtracije {len(filtered_data)}\")\n",
    "print(filtered_data.head())\n",
    "\n"
   ]
  },
  {
   "cell_type": "code",
   "execution_count": null,
   "id": "e3af7df2-ec46-4f72-bf2d-1e4664c54297",
   "metadata": {},
   "outputs": [],
   "source": []
  }
 ],
 "metadata": {
  "kernelspec": {
   "display_name": "Python 3 (ipykernel)",
   "language": "python",
   "name": "python3"
  },
  "language_info": {
   "codemirror_mode": {
    "name": "ipython",
    "version": 3
   },
   "file_extension": ".py",
   "mimetype": "text/x-python",
   "name": "python",
   "nbconvert_exporter": "python",
   "pygments_lexer": "ipython3",
   "version": "3.12.7"
  }
 },
 "nbformat": 4,
 "nbformat_minor": 5
}
