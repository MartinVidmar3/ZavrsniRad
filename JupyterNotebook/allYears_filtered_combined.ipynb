{
 "cells": [
  {
   "cell_type": "code",
   "execution_count": 8,
   "id": "3e41eed5-e6e0-46a7-a58b-ab194a935992",
   "metadata": {},
   "outputs": [
    {
     "name": "stdout",
     "output_type": "stream",
     "text": [
      "Successfully combined data. Shape: (3012318, 12)\n"
     ]
    }
   ],
   "source": [
    "import pandas as pd\n",
    "from pathlib import Path\n",
    "\n",
    "floor_ids = [23, 24]\n",
    "years = [2018, 2019, 2020, 2021]\n",
    "all_data = []\n",
    "\n",
    "for year in years:\n",
    "    for floor_id in floor_ids:\n",
    "        # Correct path: Desktop/trecaGodina/projekt R/results/{year}/{floor_id}/stac_stanja_{floor_id}_{year}.csv\n",
    "        path = f\"results/{year}/{floor_id}/stac_stanja_{floor_id}_{year}.csv\"\n",
    "        \n",
    "        if Path(path).exists():  # Check if file exists\n",
    "            df = pd.read_csv(path)\n",
    "            all_data.append(df)\n",
    "        else:\n",
    "            print(f\"File not found: {path}\")\n",
    "\n",
    "# Concatenate all DataFrames (if any were loaded)\n",
    "if all_data:\n",
    "    combined_data = pd.concat(all_data, ignore_index=True)\n",
    "    print(\"Successfully combined data. Shape:\", combined_data.shape)\n",
    "else:\n",
    "    print(\"No files were found.\")\n"
   ]
  },
  {
   "cell_type": "code",
   "execution_count": 11,
   "id": "a9f2f8a0-0fab-4592-b3ff-d82941d37cc8",
   "metadata": {},
   "outputs": [],
   "source": [
    "combined_data.to_csv( 'results/combined_data.csv ', index=False)"
   ]
  },
  {
   "cell_type": "code",
   "execution_count": null,
   "id": "7d14a057-47eb-453f-a1b1-75432201c167",
   "metadata": {},
   "outputs": [],
   "source": []
  }
 ],
 "metadata": {
  "kernelspec": {
   "display_name": "Python 3 (ipykernel)",
   "language": "python",
   "name": "python3"
  },
  "language_info": {
   "codemirror_mode": {
    "name": "ipython",
    "version": 3
   },
   "file_extension": ".py",
   "mimetype": "text/x-python",
   "name": "python",
   "nbconvert_exporter": "python",
   "pygments_lexer": "ipython3",
   "version": "3.12.7"
  }
 },
 "nbformat": 4,
 "nbformat_minor": 5
}
