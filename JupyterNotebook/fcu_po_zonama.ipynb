{
 "cells": [
  {
   "cell_type": "code",
   "execution_count": 2,
   "id": "00e9ef29-49c3-4f00-81b9-0b5564bced0a",
   "metadata": {},
   "outputs": [],
   "source": [
    "import pandas as pd\n",
    "import matplotlib.pyplot as plt\n",
    "%matplotlib inline\n",
    "file_path_fcu=\"../csvFileovi/fcu.csv\"\n",
    "data_fcu=pd.read_csv(file_path_fcu)"
   ]
  },
  {
   "cell_type": "code",
   "execution_count": 4,
   "id": "7e403202-d717-4b1a-8254-82cc99ed4832",
   "metadata": {},
   "outputs": [
    {
     "name": "stdout",
     "output_type": "stream",
     "text": [
      "     fcu_id  zone_id                   timestamp  placement  fcu_type_id  \\\n",
      "0       190      130  2018-03-20 17:29:40.105590          1          NaN   \n",
      "1        26        1  2018-03-20 17:29:40.105590          1          2.0   \n",
      "2        27        1  2018-03-20 17:29:40.105590          2          2.0   \n",
      "3        28        1  2018-03-20 17:29:40.105590          3          2.0   \n",
      "4        29        1  2018-03-20 17:29:40.105590          4          2.0   \n",
      "..      ...      ...                         ...        ...          ...   \n",
      "365     366      248  2018-06-05 08:07:49.224206          1          1.0   \n",
      "366     367      248  2018-06-05 08:07:49.224206          2          1.0   \n",
      "367     368      248  2018-06-05 08:07:49.224206          3          1.0   \n",
      "368     371      251  2018-07-24 13:18:20.700639          1          1.0   \n",
      "369     372      252  2018-07-24 13:18:20.700639          1          1.0   \n",
      "\n",
      "     pipework_id  \n",
      "0              3  \n",
      "1              3  \n",
      "2              3  \n",
      "3              3  \n",
      "4              3  \n",
      "..           ...  \n",
      "365            3  \n",
      "366            3  \n",
      "367            3  \n",
      "368            3  \n",
      "369            3  \n",
      "\n",
      "[370 rows x 6 columns]\n"
     ]
    }
   ],
   "source": [
    "print(data_fcu)"
   ]
  },
  {
   "cell_type": "code",
   "execution_count": 18,
   "id": "1b13332b-2203-4327-96a4-e3a689e377ff",
   "metadata": {},
   "outputs": [
    {
     "name": "stdout",
     "output_type": "stream",
     "text": [
      "[3 2]\n"
     ]
    }
   ],
   "source": [
    "unique_pipework_ids = data_fcu['pipework_id'].unique()\n",
    "print(unique_pipework_ids)"
   ]
  },
  {
   "cell_type": "code",
   "execution_count": 20,
   "id": "7d414ffd-2676-4c4e-89e6-adaa0181b560",
   "metadata": {},
   "outputs": [
    {
     "name": "stdout",
     "output_type": "stream",
     "text": [
      "[nan  2.  1.]\n"
     ]
    }
   ],
   "source": [
    "unique_fcu_type_ids = data_fcu['fcu_type_id'].unique()\n",
    "print(unique_fcu_type_ids)"
   ]
  },
  {
   "cell_type": "code",
   "execution_count": 24,
   "id": "b07ca57a-0396-4b4e-bca9-efed50c1a86d",
   "metadata": {},
   "outputs": [
    {
     "name": "stdout",
     "output_type": "stream",
     "text": [
      "     fcu_id  zone_id                   timestamp  placement  fcu_type_id  \\\n",
      "308     305      212  2018-03-20 17:29:40.105590          1          2.0   \n",
      "309     306      212  2018-03-20 17:29:40.105590          2          2.0   \n",
      "\n",
      "     pipework_id  \n",
      "308            3  \n",
      "309            3  \n"
     ]
    }
   ],
   "source": [
    "fcu193= data_fcu.loc[data_fcu['zone_id']==212]\n",
    "print(fcu193)"
   ]
  },
  {
   "cell_type": "markdown",
   "id": "229882ee-8f79-41f4-bccb-0f291e863d66",
   "metadata": {},
   "source": [
    "## 11. kat sjever"
   ]
  },
  {
   "cell_type": "code",
   "execution_count": 28,
   "id": "77338314-8548-4755-a9bb-e5952d2e94f9",
   "metadata": {},
   "outputs": [
    {
     "name": "stdout",
     "output_type": "stream",
     "text": [
      "     fcu_id  zone_id                   timestamp  placement  fcu_type_id  \\\n",
      "283     307      193  2018-03-20 17:29:40.105590          1          2.0   \n",
      "284     308      193  2018-03-20 17:29:40.105590          2          2.0   \n",
      "285     309      194  2018-03-20 17:29:40.105590          1          2.0   \n",
      "286     310      194  2018-03-20 17:29:40.105590          2          2.0   \n",
      "302     299      208  2018-03-20 17:29:40.105590          1          2.0   \n",
      "303     300      208  2018-03-20 17:29:40.105590          2          2.0   \n",
      "304     301      209  2018-03-20 17:29:40.105590          1          2.0   \n",
      "305     302      209  2018-03-20 17:29:40.105590          2          2.0   \n",
      "306     303      210  2018-03-20 17:29:40.105590          1          2.0   \n",
      "307     304      211  2018-03-20 17:29:40.105590          1          2.0   \n",
      "308     305      212  2018-03-20 17:29:40.105590          1          2.0   \n",
      "309     306      212  2018-03-20 17:29:40.105590          2          2.0   \n",
      "\n",
      "     pipework_id  \n",
      "283            3  \n",
      "284            3  \n",
      "285            3  \n",
      "286            3  \n",
      "302            3  \n",
      "303            3  \n",
      "304            3  \n",
      "305            3  \n",
      "306            3  \n",
      "307            3  \n",
      "308            3  \n",
      "309            3  \n"
     ]
    }
   ],
   "source": [
    "zone_ids = [193, 194, 208, 209, 210, 211, 212]\n",
    "filtered_fcu_north = data_fcu.loc[data_fcu['zone_id'].isin(zone_ids)]\n",
    "print(filtered_fcu_north)"
   ]
  },
  {
   "cell_type": "markdown",
   "id": "b82f966a-937f-478b-b749-f1f3f92606bd",
   "metadata": {},
   "source": [
    "## 11. kat jug"
   ]
  },
  {
   "cell_type": "code",
   "execution_count": 6,
   "id": "39c85f3a-cf6d-4a35-8bfd-dbfacc7010cf",
   "metadata": {},
   "outputs": [
    {
     "name": "stdout",
     "output_type": "stream",
     "text": [
      "     zone_id  fcu_id  fcu_type_id\n",
      "287      195     284          1.0\n",
      "288      195     285          1.0\n",
      "289      196     286          1.0\n",
      "290      197     287          1.0\n",
      "291      198     288          1.0\n",
      "292      199     289          1.0\n",
      "293      200     290          2.0\n",
      "294      200     291          2.0\n",
      "295      201     292          1.0\n",
      "296      202     293          1.0\n",
      "297      203     294          2.0\n",
      "298      204     295          1.0\n",
      "299      205     296          1.0\n",
      "300      206     297          1.0\n",
      "301      207     298          1.0\n"
     ]
    }
   ],
   "source": [
    "zone_ids = [195, 196, 197, 198, 199, 200, 201, 202, 203, 204, 205, 206, 207]\n",
    "filtered_fcu_south = data_fcu.loc[data_fcu['zone_id'].isin(zone_ids), ['zone_id', 'fcu_id', 'fcu_type_id']]\n",
    "print(filtered_fcu_south)"
   ]
  },
  {
   "cell_type": "code",
   "execution_count": null,
   "id": "99c09198-2217-4c78-870b-34a63608491e",
   "metadata": {},
   "outputs": [],
   "source": []
  }
 ],
 "metadata": {
  "kernelspec": {
   "display_name": "Python 3 (ipykernel)",
   "language": "python",
   "name": "python3"
  },
  "language_info": {
   "codemirror_mode": {
    "name": "ipython",
    "version": 3
   },
   "file_extension": ".py",
   "mimetype": "text/x-python",
   "name": "python",
   "nbconvert_exporter": "python",
   "pygments_lexer": "ipython3",
   "version": "3.12.7"
  }
 },
 "nbformat": 4,
 "nbformat_minor": 5
}
