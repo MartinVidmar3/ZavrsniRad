{
 "cells": [
  {
   "cell_type": "code",
   "execution_count": 2,
   "id": "917be776-5451-4cec-ab4d-c9e49748238e",
   "metadata": {},
   "outputs": [
    {
     "name": "stdout",
     "output_type": "stream",
     "text": [
      "Successfully combined data. Shape: (6494, 9)\n",
      "Data written to 'results/fcu_type_id1.csv'\n"
     ]
    }
   ],
   "source": [
    "import pandas as pd\n",
    "from pathlib import Path\n",
    "\n",
    "floor_id = 24\n",
    "years = [2018, 2019, 2020, 2021]\n",
    "zone_ids = [195, 196, 197, 198, 199, 200, 201, 202, 203, 204, 205, 206, 207]\n",
    "interval= \"30min\"\n",
    "all_data = []\n",
    "\n",
    "for year in years:\n",
    "    # Correct path: Desktop/trecaGodina/projekt R/results/{year}/{floor_id}/stac_stanja_{floor_id}_{year}.csv\n",
    "    path = f\"../../../../../results/{year}/{floor_id}/{interval}/zone_stac_stanja_{floor_id}_{year}.csv\"\n",
    "        \n",
    "    if Path(path).exists():\n",
    "        df = pd.read_csv(path)\n",
    "        # Apply both filters: zone_id in zone_ids AND zone_fan_speed == 0\n",
    "        filtered_df = df[(df['zone_id'].isin(zone_ids)) & (df['zone_fan_speed'] == 0)]\n",
    "        all_data.append(filtered_df)\n",
    "    else:\n",
    "        print(f\"File not found: {path}\")\n",
    "        \n",
    "if all_data:\n",
    "    combined_data = pd.concat(all_data, ignore_index=True)\n",
    "    print(\"Successfully combined data. Shape:\", combined_data.shape)\n",
    "    combined_data.to_csv(\"../../../../../results/usporedbaThermal/24/speed1/30min/zones.csv\", index=False)\n",
    "    print(\"Data written to 'results/fcu_type_id1.csv'\")\n",
    "else:\n",
    "    print(\"No files were found.\")"
   ]
  },
  {
   "cell_type": "code",
   "execution_count": null,
   "id": "1bd2a4d3-6c65-4553-9d2a-94115c97a691",
   "metadata": {},
   "outputs": [],
   "source": []
  },
  {
   "cell_type": "code",
   "execution_count": null,
   "id": "2a772c68-11a1-4032-8b23-ef4f6a0d4df7",
   "metadata": {},
   "outputs": [],
   "source": []
  }
 ],
 "metadata": {
  "kernelspec": {
   "display_name": "Python 3 (ipykernel)",
   "language": "python",
   "name": "python3"
  },
  "language_info": {
   "codemirror_mode": {
    "name": "ipython",
    "version": 3
   },
   "file_extension": ".py",
   "mimetype": "text/x-python",
   "name": "python",
   "nbconvert_exporter": "python",
   "pygments_lexer": "ipython3",
   "version": "3.12.7"
  }
 },
 "nbformat": 4,
 "nbformat_minor": 5
}
